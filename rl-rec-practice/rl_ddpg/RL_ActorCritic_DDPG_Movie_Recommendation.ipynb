{
 "cells": [
  {
   "cell_type": "code",
   "execution_count": 52,
   "metadata": {},
   "outputs": [],
   "source": [
    "import pandas as pd\n",
    "import numpy as np\n",
    "from scipy.sparse.linalg import svds\n",
    "from sklearn.model_selection import train_test_split\n",
    "import tensorflow as tf\n",
    "import itertools"
   ]
  },
  {
   "cell_type": "code",
   "execution_count": 53,
   "metadata": {},
   "outputs": [],
   "source": [
    "#Loading datasets\n",
    "ratings_list = [i.strip().split(\"::\") for i in open('./data/ratings.dat', 'r').readlines()]\n",
    "users_list = [i.strip().split(\"::\") for i in open('./data/users.dat', 'r').readlines()]\n",
    "movies_list = [i.strip().split(\"::\") for i in open('./data/movies.dat',encoding='latin-1').readlines()]\n",
    "ratings_df = pd.DataFrame(ratings_list, columns = ['UserID', 'MovieID', 'Rating', 'Timestamp'], dtype = int)\n",
    "movies_df = pd.DataFrame(movies_list, columns = ['MovieID', 'Title', 'Genres'])\n",
    "movies_df['MovieID'] = movies_df['MovieID'].apply(pd.to_numeric)"
   ]
  },
  {
   "cell_type": "code",
   "execution_count": 54,
   "metadata": {},
   "outputs": [],
   "source": [
    "R_df = ratings_df.pivot(index = 'UserID', columns ='MovieID', values = 'Rating').fillna(0)\n",
    "R_df = R_df.astype(int)"
   ]
  },
  {
   "cell_type": "code",
   "execution_count": 61,
   "metadata": {},
   "outputs": [
    {
     "data": {
      "text/plain": [
       "6040"
      ]
     },
     "metadata": {},
     "output_type": "display_data"
    },
    {
     "data": {
      "text/plain": [
       "3706"
      ]
     },
     "metadata": {},
     "output_type": "display_data"
    }
   ],
   "source": [
    "display(len(R_df.index),len(list(R_df)))"
   ]
  },
  {
   "cell_type": "code",
   "execution_count": 55,
   "metadata": {},
   "outputs": [],
   "source": [
    "#might be used in the user dependednt state representation\n",
    "userids = list(R_df.index.values) #list of userids\n",
    "idx_to_userids = {i:userids[i] for i in range(len(userids))}\n",
    "userids_to_idx = {userids[i]:i for i in range(len(userids))}"
   ]
  },
  {
   "cell_type": "code",
   "execution_count": 56,
   "metadata": {},
   "outputs": [],
   "source": [
    "#list of movie ids\n",
    "columns = list(R_df)\n",
    "idx_to_id = {i:columns[i] for i in range(len(columns))}\n",
    "id_to_idx = {columns[i]:i for i in range(len(columns))}"
   ]
  },
  {
   "cell_type": "code",
   "execution_count": 15,
   "metadata": {},
   "outputs": [
    {
     "data": {
      "text/plain": [
       "5"
      ]
     },
     "execution_count": 15,
     "metadata": {},
     "output_type": "execute_result"
    }
   ],
   "source": [
    "#to get item embeddings\n",
    "R_df['1']['1']"
   ]
  },
  {
   "cell_type": "markdown",
   "metadata": {},
   "source": [
    "## Getting Embeddings of User and Item(Movie Id)"
   ]
  },
  {
   "cell_type": "code",
   "execution_count": 16,
   "metadata": {},
   "outputs": [],
   "source": [
    "R = R_df.values\n",
    "user_ratings_mean = np.mean(R, axis = 1)\n",
    "R_demeaned = R - user_ratings_mean.reshape(-1, 1)"
   ]
  },
  {
   "cell_type": "code",
   "execution_count": 17,
   "metadata": {},
   "outputs": [],
   "source": [
    "#Movie Embeddings,可以用SVD的方式来说得到embedding,\n",
    "U, sigma, Vt = svds(R_demeaned, k = 100)\n",
    "# print(Vt.shape)\n",
    "V = Vt.transpose()\n",
    "# print(V.shape)\n",
    "movie_list = V.tolist()\n",
    "movie_embeddings_dict = {columns[i]:tf.convert_to_tensor(movie_list[i]) for i in range(len(columns))}\n"
   ]
  },
  {
   "cell_type": "code",
   "execution_count": 22,
   "metadata": {},
   "outputs": [
    {
     "name": "stdout",
     "output_type": "stream",
     "text": [
      "(6040, 100)\n",
      "(100, 3706)\n",
      "(3706, 100)\n",
      "(6040, 3706)\n"
     ]
    }
   ],
   "source": [
    "print(U.shape)#(6040, 100)\n",
    "print(Vt.shape)#(100, 3706)\n",
    "V = Vt.transpose()\n",
    "print(V.shape)#(3706, 100)\n",
    "print(R_demeaned.shape)"
   ]
  },
  {
   "cell_type": "code",
   "execution_count": 23,
   "metadata": {},
   "outputs": [],
   "source": [
    "user_list = U.tolist()\n",
    "user_embeddings_dict =  {userids[i]:tf.convert_to_tensor(user_list[i]) for i in range(len(userids))}"
   ]
  },
  {
   "cell_type": "code",
   "execution_count": 25,
   "metadata": {},
   "outputs": [],
   "source": [
    "#prepare_dataset\n",
    "#using ratings_df\n",
    "users_df = ratings_df.sort_values([\"UserID\",\"Timestamp\"]).set_index(\"UserID\").fillna(0).drop(\"Timestamp\",axis=1)\n",
    "users = dict(tuple(users_df.groupby(\"UserID\")))"
   ]
  },
  {
   "cell_type": "markdown",
   "metadata": {},
   "source": [
    "## Train and Test Dataset"
   ]
  },
  {
   "cell_type": "code",
   "execution_count": 27,
   "metadata": {},
   "outputs": [],
   "source": [
    "#Getting users with positive rating count greater than 10\n",
    "# 10 == 'N' positively interacted items\n",
    "from collections import defaultdict\n",
    "from collections import Counter\n",
    "users_dict = defaultdict(dict)\n",
    "users_id_list = set()\n",
    "for user_id in users:\n",
    "  rating_freq = Counter(users[user_id][\"Rating\"].values)\n",
    "  if rating_freq['4']+rating_freq['5']<10 :#如果当前用户4分和5分的电影评论次数不到10次,则过滤当前用户\n",
    "    continue\n",
    "  else:\n",
    "    users_id_list.add(user_id)\n",
    "    users_dict[user_id][\"item\"] = users[user_id][\"MovieID\"].values\n",
    "    users_dict[user_id][\"rating\"] = users[user_id][\"Rating\"].values"
   ]
  },
  {
   "cell_type": "code",
   "execution_count": 29,
   "metadata": {},
   "outputs": [],
   "source": [
    "users_id_list = np.array(list(users_id_list))"
   ]
  },
  {
   "cell_type": "code",
   "execution_count": 32,
   "metadata": {},
   "outputs": [
    {
     "name": "stdout",
     "output_type": "stream",
     "text": [
      "['4057' '2676'] 4462\n"
     ]
    }
   ],
   "source": [
    "#choosing default train_test_split of 25%\n",
    "train_users,test_users = train_test_split(users_id_list)\n",
    "print(train_users[:2],len(train_users))"
   ]
  },
  {
   "cell_type": "code",
   "execution_count": 33,
   "metadata": {},
   "outputs": [
    {
     "data": {
      "text/plain": [
       "array(['5740', '5066'], dtype='<U4')"
      ]
     },
     "execution_count": 33,
     "metadata": {},
     "output_type": "execute_result"
    }
   ],
   "source": [
    "test_users[:2]"
   ]
  },
  {
   "cell_type": "code",
   "execution_count": 34,
   "metadata": {},
   "outputs": [],
   "source": [
    "class UserDataset():\n",
    "    def __init__(self,users_list,users_dict):\n",
    "        self.users_list = users_list\n",
    "        self.users_dict = users_dict\n",
    "        \n",
    "    def __len__(self):\n",
    "        return len(self.users_list)\n",
    "\n",
    "    def __getitem__(self,idx):\n",
    "        user_id = self.users_list[idx]\n",
    "        items=[('1',)]*10\n",
    "        rating=[('0',)]*10\n",
    "        j =0\n",
    "        for i ,rate in enumerate(self.users_dict[user_id]['rating']):\n",
    "            if int(rate) >3 and j < 10:\n",
    "                items[j] = self.users_dict[user_id][\"item\"][i]\n",
    "                ratings[j] = self.users_dict[user_id][\"rating\"][i]\n",
    "                j += 1\n",
    "        # item = list(self.users_dict[user_id][\"item\"][:])\n",
    "        # rating = list(self.users_dict[user_id][\"rating\"][:])\n",
    "        size = len(items)\n",
    "\n",
    "        return {'item':items,'rating':ratings,'size':size,'userid':user_id,'idx':idx}\n"
   ]
  },
  {
   "cell_type": "code",
   "execution_count": 35,
   "metadata": {},
   "outputs": [],
   "source": [
    "train_users_dataset = UserDataset(train_users,users_dict)\n",
    "test_users_dataset = UserDataset(test_users,users_dict)"
   ]
  },
  {
   "cell_type": "code",
   "execution_count": null,
   "metadata": {},
   "outputs": [],
   "source": [
    "from torch.utils.data import DataLoader\n",
    "\n",
    "train_dataloader = DataLoader(train_users_dataset,batch_size=1)\n",
    "test_dataloader = DataLoader(test_users_dataset,batch_size=1)"
   ]
  },
  {
   "cell_type": "markdown",
   "metadata": {},
   "source": [
    "## State Representation Models"
   ]
  },
  {
   "cell_type": "code",
   "execution_count": 36,
   "metadata": {},
   "outputs": [],
   "source": [
    "def drrave_state_rep(userid_b,items,memory,idx):\n",
    "  user_num = idx\n",
    "  H = [] #item embeddings\n",
    "  user_n_items = items\n",
    "  user_embeddings = torch.Tensor(np.array(user_embeddings_dict[userid_b[0]]),).unsqueeze(0)\n",
    "  for i,item in enumerate(user_n_items):\n",
    "    H.append(np.array(movie_embeddings_dict[item[0]]))\n",
    "  avg_layer = nn.AvgPool1d(1)\n",
    "  item_embeddings = avg_layer(torch.Tensor(H,).unsqueeze(0)).permute(0,2,1).squeeze(0)\n",
    "  state = torch.cat([user_embeddings,user_embeddings*item_embeddings.T,item_embeddings.T])\n",
    "  return state #state tensor shape [21,100]\n"
   ]
  },
  {
   "cell_type": "code",
   "execution_count": 37,
   "metadata": {},
   "outputs": [],
   "source": [
    "def drru_state_rep(userid_b,items,memory,idx):\n",
    "  user_num = idx\n",
    "  H = []\n",
    "  user_n_items = items\n",
    "  user_embeddings = user_embeddings_dict[userid_b[0]]\n",
    "  for i,item in enumerate(user_n_items):\n",
    "    ui = np.array(user_embeddings) * np.array(movie_embeddings_dict[item[0]])\n",
    "    H.append(ui)\n",
    "\n",
    "  pairs = list(itertools.combinations(memory[user_num], 2))\n",
    "  for item1,item2 in pairs:\n",
    "    pair1 =  np.array(movie_embeddings_dict[str(int(item1))])\n",
    "    pair2 = np.array(movie_embeddings_dict[str(int(item2))])\n",
    "\n",
    "    product = pair1*pair2\n",
    "    H.append(product)\n",
    "  state = torch.Tensor(H,)\n",
    "  return state #state tensor shape [55,100]\n"
   ]
  },
  {
   "cell_type": "code",
   "execution_count": 38,
   "metadata": {},
   "outputs": [],
   "source": [
    "def drrp_state_rep(items,memory,idx):\n",
    "  user_num = idx\n",
    "  H = []\n",
    "  user_n_items = items\n",
    "  for i,item in enumerate(user_n_items):\n",
    "    H.append(np.array(movie_embeddings_dict[item[0]]))\n",
    "  \n",
    "  pairs = list(itertools.combinations(memory[user_num], 2))\n",
    "  for item1,item2 in pairs:\n",
    "    pair1 =  np.array(movie_embeddings_dict[str(int(item1))])\n",
    "    pair2 = np.array(movie_embeddings_dict[str(int(item2))])\n",
    "    product = pair1*pair2\n",
    "    H.append(product)\n",
    "  state = torch.Tensor(H,)\n",
    "  return state"
   ]
  },
  {
   "cell_type": "code",
   "execution_count": 39,
   "metadata": {},
   "outputs": [],
   "source": [
    "# just n items and their embeddings used to represent state\n",
    "def state_rep(item_b):\n",
    "  state = []\n",
    "  user_embeddings = np.zeros((len(columns),100))\n",
    "  movie_ids = list(item[0] for item in item_b)\n",
    "  for i,subitem in enumerate(user_embeddings):\n",
    "    if idx_to_id[i] in movie_ids:\n",
    "      user_embeddings[i] = np.array(movie_embeddings_dict[idx_to_id[i]])\n",
    "    else:\n",
    "      user_embeddings[i] = np.zeros((100,))\n",
    "  state = torch.Tensor(user_embeddings,)\n",
    "  return torch.reshape(state,[-1])"
   ]
  },
  {
   "cell_type": "markdown",
   "metadata": {},
   "source": [
    "## Actor, Critic Module"
   ]
  },
  {
   "cell_type": "code",
   "execution_count": 41,
   "metadata": {},
   "outputs": [],
   "source": [
    "#Dependencies\n",
    "\n",
    "import torch\n",
    "import torch.nn as nn\n",
    "import torch.nn.functional as F\n",
    "from torchtools.optim import Ranger\n",
    "import tqdm\n",
    "import random\n",
    "import matplotlib.pyplot as plt\n",
    "#uncomment to use adam\n",
    "# from torch.optim import Adam"
   ]
  },
  {
   "cell_type": "code",
   "execution_count": 43,
   "metadata": {},
   "outputs": [],
   "source": [
    "#Actor Model:\n",
    "#Generating an action a based on state s\n",
    "\n",
    "class Actor(torch.nn.Module):\n",
    "  def __init__(self, input_dim, output_dim,hidden_dim):\n",
    "    super(Actor, self).__init__()\n",
    "\n",
    "    self.drop_layer = nn.Dropout(p=0.5)        \n",
    "    self.linear1 = nn.Linear(input_dim, hidden_dim)\n",
    "    self.linear2 = nn.Linear(hidden_dim, hidden_dim)\n",
    "    self.linear3 = nn.Linear(hidden_dim, output_dim)\n",
    "  \n",
    "\n",
    "  def forward(self, state):\n",
    "    # state = self.state_rep(state)\n",
    "    x = F.relu(self.linear1(state))\n",
    "    # print(x.shape)\n",
    "    x = self.drop_layer(x)\n",
    "    x = F.relu(self.linear2(x))\n",
    "    # print(x.shape)\n",
    "    x = self.drop_layer(x)\n",
    "    # x = torch.tanh(self.linear3(x)) # in case embeds are -1 1 normalized\n",
    "    x = self.linear3(x) # in case embeds are standard scaled / wiped using PCA whitening\n",
    "    # return state, x\n",
    "    return x"
   ]
  },
  {
   "cell_type": "code",
   "execution_count": null,
   "metadata": {},
   "outputs": [],
   "source": [
    "class Critic(nn.Module):\n",
    "  def __init__(self,input_dim,output_dim,hidden_dim):\n",
    "\n",
    "    super(Critic, self).__init__()\n",
    "        \n",
    "    self.drop_layer = nn.Dropout(p=0.5)\n",
    "    \n",
    "    self.linear1 = nn.Linear(input_dim + output_dim, hidden_dim)\n",
    "    self.linear2 = nn.Linear(hidden_dim, hidden_dim)\n",
    "    self.linear3 = nn.Linear(hidden_dim, 1)\n",
    "\n",
    "  def forward(self,state,action):    \n",
    "    x = torch.cat([state, action], 1)\n",
    "    # print(x.shape)\n",
    "    x = F.relu(self.linear1(x))\n",
    "    x = self.drop_layer(x)\n",
    "    x = F.relu(self.linear2(x))\n",
    "    x = self.drop_layer(x)\n",
    "    x = self.linear3(x)\n",
    "    return x"
   ]
  },
  {
   "cell_type": "code",
   "execution_count": 44,
   "metadata": {},
   "outputs": [],
   "source": [
    "class ReplayBuffer:\n",
    "    def __init__(self, capacity):\n",
    "        self.capacity = capacity\n",
    "        self.buffer = []\n",
    "        self.position = 0\n",
    "    \n",
    "    def push(self, state, action, reward, next_state):\n",
    "        if len(self.buffer) < self.capacity:\n",
    "            self.buffer.append(None)\n",
    "        self.buffer[self.position] = (state, action, reward, next_state)\n",
    "        self.position = (self.position + 1) % self.capacity\n",
    "    \n",
    "    def sample(self, batch_size):\n",
    "        batch = random.sample(self.buffer, batch_size)\n",
    "        # print(batch)\n",
    "        state, action, reward, next_state = map(np.stack,zip(*batch))\n",
    "        return state, action, reward, next_state\n",
    "    \n",
    "    def __len__(self):\n",
    "        return len(self.buffer)"
   ]
  },
  {
   "cell_type": "code",
   "execution_count": 45,
   "metadata": {},
   "outputs": [],
   "source": [
    "\n",
    "\n",
    "#used for plotting purposes\n",
    "p_loss = []\n",
    "v_loss = []\n",
    "\n"
   ]
  },
  {
   "cell_type": "code",
   "execution_count": 46,
   "metadata": {},
   "outputs": [],
   "source": [
    "def ddpg_update(batch_size=1, \n",
    "                gamma = 0.6,\n",
    "                min_value=-np.inf,\n",
    "                max_value=np.inf,\n",
    "                soft_tau=1e-2):\n",
    "    \n",
    "    state, action, reward, next_state = replay_buffer.sample(batch_size)\n",
    "    state      = torch.FloatTensor(state).to(device)\n",
    "\n",
    "    next_state = torch.FloatTensor(next_state).to(device)\n",
    "\n",
    "    action     = torch.FloatTensor(action).to(device)\n",
    "    reward     = torch.FloatTensor(reward).to(device)\n",
    "    # print(state.shape)\n",
    "    # print(policy_net(state).shape)\n",
    "    policy_loss = value_net(state, policy_net(state))\n",
    "    policy_loss = -policy_loss.mean()\n",
    "    p_loss.append(policy_loss)\n",
    "    next_action    = target_policy_net(next_state)\n",
    "    target_value   = target_value_net(next_state, next_action.detach())\n",
    "    expected_value = reward + gamma * target_value\n",
    "    expected_value = torch.clamp(expected_value, min_value, max_value)\n",
    "\n",
    "    value = value_net(state, action)\n",
    "    # print(\"1\")\n",
    "    value_loss = value_criterion(value, expected_value.detach())\n",
    "    # print(\"2\")\n",
    "    v_loss.append(value_loss)\n",
    "    policy_optimizer.zero_grad()\n",
    "    # print(\"3\")\n",
    "    policy_loss.backward()\n",
    "    policy_optimizer.step()\n",
    "\n",
    "    value_optimizer.zero_grad()\n",
    "    value_loss.backward()\n",
    "    value_optimizer.step()\n",
    "\n",
    "    for target_param, param in zip(target_value_net.parameters(), value_net.parameters()):\n",
    "                target_param.data.copy_(\n",
    "                    target_param.data * (1.0 - soft_tau) + param.data * soft_tau\n",
    "                )\n",
    "\n",
    "    for target_param, param in zip(target_policy_net.parameters(), policy_net.parameters()):\n",
    "            target_param.data.copy_(\n",
    "                target_param.data * (1.0 - soft_tau) + param.data * soft_tau\n",
    "            )"
   ]
  },
  {
   "cell_type": "code",
   "execution_count": null,
   "metadata": {},
   "outputs": [],
   "source": [
    "#initializing actor and critic networks for drru and drrp state representation\n",
    "\n",
    "value_net = Critic(5500,100,256)\n",
    "policy_net = Actor(5500,100,256)\n",
    "\n",
    "target_value_net = Critic(5500,100,256)\n",
    "target_policy_net = Actor(5500,100,256)\n",
    "\n",
    "\n",
    "target_policy_net.eval()\n",
    "target_value_net.eval()\n",
    "\n",
    "for target_param, param in zip(target_value_net.parameters(), value_net.parameters()):\n",
    "  target_param.data.copy_(param.data)\n",
    "\n",
    "for target_param, param in zip(target_policy_net.parameters(), policy_net.parameters()):\n",
    "  target_param.data.copy_(param.data)\n",
    "\n",
    "value_criterion = nn.MSELoss()\n",
    "value_optimizer      = Ranger(value_net.parameters(),  lr=1e-4)\n",
    "policy_optimizer     = Ranger(policy_net.parameters(), lr=1e-4)"
   ]
  },
  {
   "cell_type": "code",
   "execution_count": null,
   "metadata": {},
   "outputs": [],
   "source": [
    "#initializing for drrave state representation\n",
    "\n",
    "value_net = Critic(2100,100,256)\n",
    "policy_net = Actor(2100,100,256)\n",
    "\n",
    "target_value_net = Critic(2100,100,256)\n",
    "target_policy_net = Actor(2100,100,256)\n",
    "\n",
    "\n",
    "target_policy_net.eval()\n",
    "target_value_net.eval()\n",
    "\n",
    "for target_param, param in zip(target_value_net.parameters(), value_net.parameters()):\n",
    "  target_param.data.copy_(param.data)\n",
    "\n",
    "for target_param, param in zip(target_policy_net.parameters(), policy_net.parameters()):\n",
    "  target_param.data.copy_(param.data)\n",
    "\n",
    "value_criterion = nn.MSELoss()\n",
    "value_optimizer      = Ranger(value_net.parameters(),  lr=1e-4)\n",
    "policy_optimizer     = Ranger(policy_net.parameters(), lr=1e-4)"
   ]
  },
  {
   "cell_type": "code",
   "execution_count": null,
   "metadata": {},
   "outputs": [],
   "source": [
    "replay_buffer_size = 10000\n",
    "replay_buffer = ReplayBuffer(replay_buffer_size)\n",
    "\n",
    "memory = np.ones((train_num,10))*-1"
   ]
  },
  {
   "cell_type": "code",
   "execution_count": 47,
   "metadata": {},
   "outputs": [],
   "source": [
    "def get_action(state,action_emb,userid_b,item_b,preds):\n",
    "  action_emb = torch.reshape(action_emb,[1,100]).unsqueeze(0)\n",
    "  item_embedding = []\n",
    "  for movie in users_dict[userid_b[0]][\"item\"]:  \n",
    "    item_embedding.append(np.array(movie_embeddings_dict[movie]))\n",
    "  item_embedding = torch.Tensor(item_embedding,)\n",
    "  items = item_embedding.T.unsqueeze(0)\n",
    "  m = torch.bmm(action_emb,items).squeeze(0)\n",
    "  sorted_m,indices = torch.sort(m,descending=True)\n",
    "  index_list = list(indices[0])\n",
    "  for i in index_list:\n",
    "    if users_dict[userid_b[0]][\"item\"][i] not in preds:    \n",
    "      preds.add(users_dict[userid_b[0]][\"item\"][i])\n",
    "      return int(i)"
   ]
  },
  {
   "cell_type": "code",
   "execution_count": 48,
   "metadata": {},
   "outputs": [],
   "source": [
    "def update_memory(memory,action,idx):\n",
    "  memory[idx] = list(memory[idx,1:])+[action]"
   ]
  },
  {
   "cell_type": "code",
   "execution_count": 49,
   "metadata": {},
   "outputs": [],
   "source": [
    "rate = 0\n"
   ]
  },
  {
   "cell_type": "markdown",
   "metadata": {},
   "source": [
    "## Training"
   ]
  },
  {
   "cell_type": "code",
   "execution_count": 51,
   "metadata": {},
   "outputs": [],
   "source": [
    "preddict = dict()\n",
    "it = iter(train_dataloader)\n",
    "for episode in tqdm.tqdm(range(train_num-1)):    \n",
    "  batch_size= 1\n",
    "  preds = set()\n",
    "  first = next(it)\n",
    "  item_b,rating_b,size_b,userid_b,idx_b = first['item'],first['rating'],first['size'],first['userid'],first['idx']\n",
    "  memory[idx_b] = [item[0] for item in item_b]\n",
    "  state = drrave_state_rep(userid_b,item_b,memory,idx_b)\n",
    "  for j in range(5):    \n",
    "    state_rep =  torch.reshape(state,[-1])\n",
    "    action_emb = policy_net(state_rep)\n",
    "    action = get_action(state,action_emb,userid_b,item_b,preds)\n",
    "    rate = int(users_dict[userid_b[0]][\"rating\"][action])\n",
    "    try:\n",
    "      ratings = (int(rate)-3)/2\n",
    "    except:\n",
    "      ratings = 0\n",
    "    reward = torch.Tensor((ratings,))\n",
    "\n",
    "    if reward > 0:\n",
    "      update_memory(memory,int(users_dict[userid_b[0]][\"item\"][action]),idx_b)\n",
    "\n",
    "    next_state = drrave_state_rep(userid_b,item_b,memory,idx_b)\n",
    "    next_state_rep = torch.reshape(next_state,[-1])\n",
    "    replay_buffer.push(state_rep.detach().cpu().numpy(), action_emb.detach().cpu().numpy(), reward, next_state_rep.detach().cpu().numpy())\n",
    "    if len(replay_buffer) > batch_size:\n",
    "        ddpg_update()\n",
    "\n",
    "    state = next_state\n",
    "  preddict[userid_b[0]] = preds"
   ]
  },
  {
   "cell_type": "markdown",
   "metadata": {},
   "source": [
    "## Testing"
   ]
  },
  {
   "cell_type": "code",
   "execution_count": null,
   "metadata": {},
   "outputs": [],
   "source": [
    "#prediction algorithm\n",
    "it2 = iter(test_dataloader)\n",
    "precision = 0\n",
    "test_pred_dict = dict()\n",
    "for j in range(len(test_dataloader)-1):\n",
    "  first = next(it2)\n",
    "  item_b,rating_b,size_b,userid_b,idx_b = first['item'],first['rating'],first['size'],first['userid'],first['idx']\n",
    "  memory[idx_b] = [item[0] for item in item_b]\n",
    "  state = drrave_state_rep(userid_b,item_b,memory,idx_b)\n",
    "  count = 0\n",
    "  test_pred = set()\n",
    "  for j in range(5):\n",
    "    state_rep =  torch.reshape(state,[-1])\n",
    "    action_emb = policy_net(state_rep)\n",
    "    action = get_action(state,action_emb,userid_b,item_b,test_pred)\n",
    "    rate = int(users_dict[userid_b[0]][\"rating\"][action])\n",
    "    try:\n",
    "      rating = (int(rate)-3)/2\n",
    "    except:\n",
    "      rating = 0\n",
    "    reward = torch.Tensor((rating,))\n",
    "\n",
    "    if reward > 0:\n",
    "      count += 1\n",
    "      update_memory(memory,int(users_dict[userid_b[0]][\"item\"][action]),idx_b)\n",
    "    next_state = drrave_state_rep(userid_b,item_b,memory,idx_b)\n",
    "    state = next_state\n",
    "  precision += count/5\n",
    "  test_pred_dict[userid_b[0]] = test_pred\n",
    "print(\"p\",precision/(len(test_dataloader)-1))"
   ]
  },
  {
   "cell_type": "code",
   "execution_count": null,
   "metadata": {},
   "outputs": [],
   "source": [
    "#Getting Cosine similarity of recommended items for a particular userid that has been evaluated\n",
    "from sklearn.metrics.pairwise import cosine_similarity as cs\n",
    "import seaborn as sns\n",
    "\n",
    "def get_cosine_sim(userid):\n",
    "  test_pred = test_pred_dict[userid]\n",
    "  for i,item in enumerate(users_dict[userid][\"item\"]):\n",
    "    if item in test_pred:\n",
    "      print(item,\":\",users_dict[userid][\"rating\"][i])\n",
    "\n",
    "  test_embed = []\n",
    "  for item in test_pred:\n",
    "    test_embed.append(np.array(movie_embeddings_dict[item]))\n",
    "\n",
    "  test_embed_array = np.array(test_embed)\n",
    "\n",
    "  return test_embed_array\n",
    "\n",
    "test_embed_array = get_cosine_sim(userid_b[0])\n",
    "ax = sns.heatmap(cs(test_embed_array), linewidth=0.5)\n",
    "plt.show()\n"
   ]
  },
  {
   "cell_type": "markdown",
   "metadata": {},
   "source": [
    "## Saving and Loading Models"
   ]
  },
  {
   "cell_type": "code",
   "execution_count": null,
   "metadata": {},
   "outputs": [],
   "source": [
    "\n",
    "\n",
    "PATH = '/content/gdrive/My Drive/RLProject/Models/drravepolicy_net.pth'\n",
    "torch.save(policy_net.state_dict(), PATH)\n",
    "\n"
   ]
  },
  {
   "cell_type": "code",
   "execution_count": null,
   "metadata": {},
   "outputs": [],
   "source": [
    "value_PATH = '/content/gdrive/My Drive/RLProject/Models/drravevalue_net.pth'\n",
    "torch.save(value_net.state_dict(), value_PATH)\n",
    "\n",
    "tpolicy_PATH = '/content/gdrive/My Drive/RLProject/Models/drravetpolicy_net.pth'\n",
    "torch.save(target_policy_net.state_dict(), tpolicy_PATH)\n",
    "\n",
    "tvalue_PATH = '/content/gdrive/My Drive/RLProject/Models/drravetvalue_net.pth'\n",
    "torch.save(target_value_net.state_dict(), tvalue_PATH)"
   ]
  },
  {
   "cell_type": "code",
   "execution_count": null,
   "metadata": {},
   "outputs": [],
   "source": [
    "np.save('/content/gdrive/My Drive/RLProject/Models/train_dataloader',train_dataloader)\n",
    "np.save('/content/gdrive/My Drive/RLProject/Models/test_dataloader',test_dataloader)"
   ]
  },
  {
   "cell_type": "code",
   "execution_count": null,
   "metadata": {},
   "outputs": [],
   "source": [
    "policy_net = Actor(5500,100,256)\n",
    "policy_net.load_state_dict(torch.load(PATH))\n",
    "policy_net.eval()\n",
    "\n",
    "value_net = Critic(5500,100,256)\n",
    "value_net.load_state_dict(torch.load(value_PATH))\n",
    "value_net.eval()\n",
    "\n",
    "target_policy_net = Actor(5500,100,256)\n",
    "target_policy_net.load_state_dict(torch.load(tpolicy_PATH))\n",
    "target_policy_net.eval()\n",
    "\n",
    "target_value_net = Critic(5500,100,256)\n",
    "target_value_net.load_state_dict(torch.load(tvalue_PATH))\n",
    "target_value_net.eval()\n"
   ]
  },
  {
   "cell_type": "code",
   "execution_count": null,
   "metadata": {},
   "outputs": [],
   "source": [
    "np_load_old = np.load\n",
    "\n",
    "# modify the default parameters of np.load\n",
    "np.load = lambda *a,**k: np_load_old(*a, allow_pickle=True, **k)\n",
    "\n",
    "train_data = np.load('/content/gdrive/My Drive/RLProject/Models/train_users.npy')\n"
   ]
  },
  {
   "cell_type": "code",
   "execution_count": null,
   "metadata": {},
   "outputs": [],
   "source": [
    "np.load = np_load_old"
   ]
  }
 ],
 "metadata": {
  "kernelspec": {
   "display_name": "Python 3",
   "language": "python",
   "name": "python3"
  },
  "language_info": {
   "codemirror_mode": {
    "name": "ipython",
    "version": 3
   },
   "file_extension": ".py",
   "mimetype": "text/x-python",
   "name": "python",
   "nbconvert_exporter": "python",
   "pygments_lexer": "ipython3",
   "version": "3.7.6"
  }
 },
 "nbformat": 4,
 "nbformat_minor": 4
}
